{
 "cells": [
  {
   "cell_type": "markdown",
   "id": "50356ac1",
   "metadata": {},
   "source": [
    "\n",
    "Local outliers and global outliers are concepts used in anomaly detection to differentiate between different types of anomalies based on their context within the dataset. Here's how they differ:\n",
    "\n",
    "Local Outliers:\n",
    "Definition: Local outliers are data points that are rare within their local neighborhood but may be common in the overall dataset.\n",
    "\n",
    "Characteristics:\n",
    "\n",
    "Local outliers are anomalies when compared to their immediate neighbors or within a specific local region of the dataset.\n",
    "They deviate significantly from the surrounding data points but may still be part of a larger, denser cluster in the dataset.\n",
    "Example:\n",
    "\n",
    "In a dataset representing temperatures across different cities, a city experiencing an unusually cold day compared to its neighboring cities but not necessarily compared to the entire dataset might be considered a local outlier.\n",
    "Global Outliers:\n",
    "Definition: Global outliers are data points that are rare across the entire dataset.\n",
    "\n",
    "Characteristics:\n",
    "\n",
    "Global outliers are anomalies when compared to the entire dataset, not just their local neighborhood.\n",
    "They deviate significantly from the majority of data points in the dataset and are typically isolated from dense regions.\n",
    "Example:\n",
    "\n",
    "In a dataset representing salaries of employees in a company, an employee with an exceptionally high or low salary compared to the salaries of all employees in the company might be considered a global outlier.\n",
    "Differences:\n",
    "Scope:\n",
    "\n",
    "Local outliers are rare within a specific local region or neighborhood of the dataset.\n",
    "Global outliers are rare across the entire dataset and are not necessarily constrained to a specific local region.\n",
    "Context:\n",
    "\n",
    "Local outliers are defined based on the context of their local neighborhood and may not stand out when considering the entire dataset.\n",
    "Global outliers are defined based on their deviation from the overall distribution of the dataset and are typically noticeable regardless of the context.\n",
    "Impact:\n",
    "\n",
    "Local outliers may have less impact on the overall analysis or interpretation of the dataset, as they are often contextual anomalies.\n",
    "Global outliers can have a more significant impact on the analysis and may represent important insights or errors in the data."
   ]
  }
 ],
 "metadata": {
  "kernelspec": {
   "display_name": "Python 3 (ipykernel)",
   "language": "python",
   "name": "python3"
  },
  "language_info": {
   "codemirror_mode": {
    "name": "ipython",
    "version": 3
   },
   "file_extension": ".py",
   "mimetype": "text/x-python",
   "name": "python",
   "nbconvert_exporter": "python",
   "pygments_lexer": "ipython3",
   "version": "3.10.9"
  }
 },
 "nbformat": 4,
 "nbformat_minor": 5
}
